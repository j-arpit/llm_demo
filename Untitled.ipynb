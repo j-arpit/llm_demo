{
 "cells": [
  {
   "cell_type": "code",
   "execution_count": 50,
   "id": "524e0025-1ba5-4840-b70e-57eb3042b372",
   "metadata": {},
   "outputs": [],
   "source": [
    "# Variables for MLflow Tracking\n",
    "ExpName = \"llm_demo\""
   ]
  },
  {
   "cell_type": "code",
   "execution_count": 51,
   "id": "5ae75df1-01b5-4da4-825d-95cb1d765f9c",
   "metadata": {},
   "outputs": [],
   "source": [
    "from langchain_community.document_loaders import PyMuPDFLoader\n",
    "from langchain.text_splitter import TokenTextSplitter\n",
    "from langchain.embeddings import HuggingFaceEmbeddings\n",
    "from langchain.vectorstores import Chroma\n",
    "import warnings\n",
    "import torch\n",
    "from transformers import pipeline"
   ]
  },
  {
   "cell_type": "markdown",
   "id": "2baea2f0-82e6-4160-bcc5-2d75a9c15a86",
   "metadata": {},
   "source": []
  },
  {
   "cell_type": "code",
   "execution_count": 6,
   "id": "e96abde5-1d98-438c-a3cf-e36231eefd19",
   "metadata": {},
   "outputs": [],
   "source": [
    "loader = PyMuPDFLoader(\"data/formula_1_regulation.pdf\")"
   ]
  },
  {
   "cell_type": "code",
   "execution_count": 7,
   "id": "e54f84ff-36b3-418e-9722-f9ac6cca9829",
   "metadata": {},
   "outputs": [],
   "source": [
    "data = loader.load()"
   ]
  },
  {
   "cell_type": "code",
   "execution_count": 8,
   "id": "7b93aaf8-e329-481d-9235-71a44eddc9de",
   "metadata": {
    "scrolled": true
   },
   "outputs": [
    {
     "data": {
      "text/plain": [
       "Document(metadata={'source': 'data/formula_1_regulation.pdf', 'file_path': 'data/formula_1_regulation.pdf', 'page': 0, 'total_pages': 78, 'format': 'PDF 1.6', 'title': '', 'author': '', 'subject': '', 'keywords': '', 'creator': 'Acrobat PDFMaker 22 for Word', 'producer': 'Adobe PDF Library 22.2.223', 'creationDate': \"D:20220816103255+03'00'\", 'modDate': \"D:20220816103604+03'00'\", 'trapped': ''}, page_content='2026 Formula 1 Power Unit Technical Regulations \\n1 \\n16 August 2022 \\n© 2022 Fédération Internationale de l’Automobile \\n \\n \\nIssue 1 \\n2026 FORMULA 1 POWER UNIT TECHNICAL REGULATIONS \\nPUBLISHED ON 16 AUGUST 2022 \\nISSUE 1 \\n \\nConvention: \\nGreen text: Comments and Explanations (non-regulatory) \\n \\nCONTENTS:  \\n \\nARTICLE 1:  \\nGENERAL PRINCIPLES \\n4 \\n1.1 \\nFormula One World Championship \\n1.2 \\nRegulatory Framework \\n1.3 \\nInitial scope and perimeter of these Technical Regulations \\n1.4 \\nDangerous construction \\n1.5 \\nCompliance with the regulations \\n1.6 \\nNew systems or technologies \\n1.7 \\nDuty of Competitor and PU Manufacturer \\n \\nARTICLE 5:  \\nPOWER UNIT   \\n \\n \\n \\n \\n \\n \\n \\n \\n \\n \\n \\n \\n \\n \\n7 \\n5.1 \\nDefinitions ICE \\n5.2 \\nDefinitions ERS \\n5.3 \\nEngine specification \\n5.4 \\nPower Unit Energy Flow \\n5.5 \\nTurbo Charger \\n5.6 \\nPower unit dimensions  \\n5.7 \\nMass and centre of gravity \\n5.8 \\nEngine intake air  \\n5.9 \\nVariable geometry systems  \\n5.10 \\nExhaust systems \\n5.11 \\nFuel systems  \\n5.12 \\nIgnition systems  \\n5.13 \\nEngine ancillaries  \\n5.14 \\nPower unit torque demand  \\n5.15 \\nPower unit control  \\n5.16 \\nEngine high rev limits  \\n5.17 \\nStarting the engine  \\n5.18 \\nStall prevention systems  \\n')"
      ]
     },
     "execution_count": 8,
     "metadata": {},
     "output_type": "execute_result"
    }
   ],
   "source": [
    "data[0]"
   ]
  },
  {
   "cell_type": "code",
   "execution_count": 12,
   "id": "ddf6a22a-8be9-4f38-90ee-a2086ed22c14",
   "metadata": {},
   "outputs": [
    {
     "name": "stderr",
     "output_type": "stream",
     "text": [
      "/opt/conda/lib/python3.11/site-packages/huggingface_hub/utils/_deprecation.py:131: FutureWarning: 'cached_download' (from 'huggingface_hub.file_download') is deprecated and will be removed from version '0.26'. Use `hf_hub_download` instead.\n",
      "  warnings.warn(warning_message, FutureWarning)\n"
     ]
    },
    {
     "data": {
      "application/vnd.jupyter.widget-view+json": {
       "model_id": "59afe3c879bc493d81c9149a7144562b",
       "version_major": 2,
       "version_minor": 0
      },
      "text/plain": [
       ".gitattributes:   0%|          | 0.00/1.23k [00:00<?, ?B/s]"
      ]
     },
     "metadata": {},
     "output_type": "display_data"
    },
    {
     "data": {
      "application/vnd.jupyter.widget-view+json": {
       "model_id": "236244277027417e881427523f609a04",
       "version_major": 2,
       "version_minor": 0
      },
      "text/plain": [
       "1_Pooling/config.json:   0%|          | 0.00/190 [00:00<?, ?B/s]"
      ]
     },
     "metadata": {},
     "output_type": "display_data"
    },
    {
     "data": {
      "application/vnd.jupyter.widget-view+json": {
       "model_id": "a56fde249e0d47ae8b67294073e355ac",
       "version_major": 2,
       "version_minor": 0
      },
      "text/plain": [
       "README.md:   0%|          | 0.00/10.7k [00:00<?, ?B/s]"
      ]
     },
     "metadata": {},
     "output_type": "display_data"
    },
    {
     "data": {
      "application/vnd.jupyter.widget-view+json": {
       "model_id": "ba4ab43805b34087855ecacf27a7db12",
       "version_major": 2,
       "version_minor": 0
      },
      "text/plain": [
       "config.json:   0%|          | 0.00/612 [00:00<?, ?B/s]"
      ]
     },
     "metadata": {},
     "output_type": "display_data"
    },
    {
     "data": {
      "application/vnd.jupyter.widget-view+json": {
       "model_id": "7bed88bc1e0344ac8a64a533703a6fef",
       "version_major": 2,
       "version_minor": 0
      },
      "text/plain": [
       "config_sentence_transformers.json:   0%|          | 0.00/116 [00:00<?, ?B/s]"
      ]
     },
     "metadata": {},
     "output_type": "display_data"
    },
    {
     "data": {
      "application/vnd.jupyter.widget-view+json": {
       "model_id": "1c6d2cd9ed28443caa6eaf8958c8493a",
       "version_major": 2,
       "version_minor": 0
      },
      "text/plain": [
       "data_config.json:   0%|          | 0.00/39.3k [00:00<?, ?B/s]"
      ]
     },
     "metadata": {},
     "output_type": "display_data"
    },
    {
     "data": {
      "application/vnd.jupyter.widget-view+json": {
       "model_id": "6494381558fd4acd998776c1a24ec47d",
       "version_major": 2,
       "version_minor": 0
      },
      "text/plain": [
       "model.safetensors:   0%|          | 0.00/90.9M [00:00<?, ?B/s]"
      ]
     },
     "metadata": {},
     "output_type": "display_data"
    },
    {
     "data": {
      "application/vnd.jupyter.widget-view+json": {
       "model_id": "45f365408c8d43b395ccfb700ada154b",
       "version_major": 2,
       "version_minor": 0
      },
      "text/plain": [
       "model.onnx:   0%|          | 0.00/90.4M [00:00<?, ?B/s]"
      ]
     },
     "metadata": {},
     "output_type": "display_data"
    },
    {
     "data": {
      "application/vnd.jupyter.widget-view+json": {
       "model_id": "6f43cf6b417a490198979a66f958ab4c",
       "version_major": 2,
       "version_minor": 0
      },
      "text/plain": [
       "pytorch_model.bin:   0%|          | 0.00/90.9M [00:00<?, ?B/s]"
      ]
     },
     "metadata": {},
     "output_type": "display_data"
    },
    {
     "data": {
      "application/vnd.jupyter.widget-view+json": {
       "model_id": "639743f62a6a4372ba1c63dfeab2cdea",
       "version_major": 2,
       "version_minor": 0
      },
      "text/plain": [
       "sentence_bert_config.json:   0%|          | 0.00/53.0 [00:00<?, ?B/s]"
      ]
     },
     "metadata": {},
     "output_type": "display_data"
    },
    {
     "data": {
      "application/vnd.jupyter.widget-view+json": {
       "model_id": "3d4bc685ef3949fe9aa99393a5d7fb3f",
       "version_major": 2,
       "version_minor": 0
      },
      "text/plain": [
       "special_tokens_map.json:   0%|          | 0.00/112 [00:00<?, ?B/s]"
      ]
     },
     "metadata": {},
     "output_type": "display_data"
    },
    {
     "data": {
      "application/vnd.jupyter.widget-view+json": {
       "model_id": "f9f0e3b072324623b5a5a5e94ad1700c",
       "version_major": 2,
       "version_minor": 0
      },
      "text/plain": [
       "tokenizer.json:   0%|          | 0.00/466k [00:00<?, ?B/s]"
      ]
     },
     "metadata": {},
     "output_type": "display_data"
    },
    {
     "data": {
      "application/vnd.jupyter.widget-view+json": {
       "model_id": "59a45329dad74d5fbfbd0df514c1c1a2",
       "version_major": 2,
       "version_minor": 0
      },
      "text/plain": [
       "tokenizer_config.json:   0%|          | 0.00/350 [00:00<?, ?B/s]"
      ]
     },
     "metadata": {},
     "output_type": "display_data"
    },
    {
     "data": {
      "application/vnd.jupyter.widget-view+json": {
       "model_id": "7e9b0e3c7086427ab4b62cebef1d95ac",
       "version_major": 2,
       "version_minor": 0
      },
      "text/plain": [
       "train_script.py:   0%|          | 0.00/13.2k [00:00<?, ?B/s]"
      ]
     },
     "metadata": {},
     "output_type": "display_data"
    },
    {
     "data": {
      "application/vnd.jupyter.widget-view+json": {
       "model_id": "aee29688c6304e8295ad03a72505e549",
       "version_major": 2,
       "version_minor": 0
      },
      "text/plain": [
       "vocab.txt:   0%|          | 0.00/232k [00:00<?, ?B/s]"
      ]
     },
     "metadata": {},
     "output_type": "display_data"
    },
    {
     "data": {
      "application/vnd.jupyter.widget-view+json": {
       "model_id": "0d084658fe0b4fd7855d93a1937b8756",
       "version_major": 2,
       "version_minor": 0
      },
      "text/plain": [
       "modules.json:   0%|          | 0.00/349 [00:00<?, ?B/s]"
      ]
     },
     "metadata": {},
     "output_type": "display_data"
    },
    {
     "name": "stderr",
     "output_type": "stream",
     "text": [
      "/opt/conda/lib/python3.11/site-packages/bitsandbytes/cextension.py:34: UserWarning: The installed version of bitsandbytes was compiled without GPU support. 8-bit optimizers, 8-bit multiplication, and GPU quantization are unavailable.\n",
      "  warn(\"The installed version of bitsandbytes was compiled without GPU support. \"\n"
     ]
    },
    {
     "name": "stdout",
     "output_type": "stream",
     "text": [
      "/opt/conda/lib/python3.11/site-packages/bitsandbytes/libbitsandbytes_cpu.so: undefined symbol: cadam32bit_grad_fp32\n"
     ]
    }
   ],
   "source": [
    "embeddings = HuggingFaceEmbeddings(model_name = \"all-MiniLM-L6-v2\")"
   ]
  },
  {
   "cell_type": "code",
   "execution_count": 13,
   "id": "19440b6a-1e36-4b3f-9d6e-8d105304a58b",
   "metadata": {},
   "outputs": [],
   "source": [
    "textSplitter = TokenTextSplitter(chunk_size=300, chunk_overlap=80)"
   ]
  },
  {
   "cell_type": "code",
   "execution_count": 14,
   "id": "67d18a9a-59c2-48a7-ad13-086cda3c7769",
   "metadata": {},
   "outputs": [],
   "source": [
    "split = textSplitter.split_documents(data)"
   ]
  },
  {
   "cell_type": "code",
   "execution_count": 20,
   "id": "6add70b1-36e2-4df6-aa7a-260403942058",
   "metadata": {},
   "outputs": [
    {
     "name": "stderr",
     "output_type": "stream",
     "text": [
      "/opt/conda/lib/python3.11/site-packages/langchain_core/_api/deprecation.py:141: LangChainDeprecationWarning: Since Chroma 0.4.x the manual persistence method is no longer supported as docs are automatically persisted.\n",
      "  warn_deprecated(\n"
     ]
    }
   ],
   "source": [
    "vectorDb = Chroma.from_documents(documents=split, embedding=embeddings, persist_directory=\"data/\")\n",
    "vectorDb.persist()"
   ]
  },
  {
   "cell_type": "code",
   "execution_count": 22,
   "id": "fe96f76f-5a44-457e-b799-aad225fdbae0",
   "metadata": {},
   "outputs": [],
   "source": [
    "def filter_top_k_threshold(docs_and_similaritiies, score_threshold):\n",
    "    score_factor = 100\n",
    "    if score_threshold is None:\n",
    "        score_threshold = 0\n",
    "    \n",
    "    docs_and_similaritiies = [\n",
    "        (doc, 1  - similarity / score_factor)\n",
    "        for doc, similarity in docs_and_similaritiies\n",
    "        if (1 - similarity / score_factor) >= score_threshold\n",
    "    ]\n",
    "\n",
    "    if len(docs_and_similaritiies) == 0:\n",
    "        warnings.warn(\n",
    "            f\"No relevant docs were retrieved using the relevance score threshold {score_threshold}\"\n",
    "        )\n",
    "    return docs_and_similaritiies"
   ]
  },
  {
   "cell_type": "code",
   "execution_count": 23,
   "id": "46d45236-2739-4eea-9bba-aaac51c4cc6c",
   "metadata": {},
   "outputs": [
    {
     "name": "stderr",
     "output_type": "stream",
     "text": [
      "/opt/conda/lib/python3.11/site-packages/langchain_core/_api/deprecation.py:141: LangChainDeprecationWarning: The class `Chroma` was deprecated in LangChain 0.2.9 and will be removed in 0.4. An updated version of the class exists in the langchain-chroma package and should be used instead. To use it run `pip install -U langchain-chroma` and import as `from langchain_chroma import Chroma`.\n",
      "  warn_deprecated(\n"
     ]
    }
   ],
   "source": [
    "vectorDb = Chroma(persist_directory=\"data/\", embedding_function=embeddings)"
   ]
  },
  {
   "cell_type": "code",
   "execution_count": 26,
   "id": "72856ddb-f499-472a-86a5-845da96abbd4",
   "metadata": {},
   "outputs": [],
   "source": [
    "query = \"Why did Formula 1 introduce limitations on the number of upgrades teams Unit could make to their power units during the season?\""
   ]
  },
  {
   "cell_type": "code",
   "execution_count": 27,
   "id": "bf8c82e6-f5f2-4ecb-b6a5-cd1b094fd130",
   "metadata": {},
   "outputs": [],
   "source": [
    "docs_and_similaritiies = vectorDb.similarity_search_with_score(\n",
    "    query=query,\n",
    "    k=5,\n",
    ")"
   ]
  },
  {
   "cell_type": "code",
   "execution_count": 28,
   "id": "91d0dedd-1f9c-4ede-85db-fe64ef8552b9",
   "metadata": {},
   "outputs": [],
   "source": [
    "docs_and_similaritiies = filter_top_k_threshold(\n",
    "    docs_and_similaritiies=docs_and_similaritiies, \n",
    "    score_threshold=0.1\n",
    ")"
   ]
  },
  {
   "cell_type": "code",
   "execution_count": 30,
   "id": "63be51a0-b04d-4698-b18b-2aa8cb223813",
   "metadata": {},
   "outputs": [],
   "source": [
    "top_K_retrieval = [doc for doc, _ in docs_and_similaritiies]"
   ]
  },
  {
   "cell_type": "code",
   "execution_count": 32,
   "id": "a0fb738b-3061-461a-8cc4-e52a20afe7cf",
   "metadata": {},
   "outputs": [],
   "source": [
    "def summarize(\n",
    "    query : str = None,\n",
    "    top_k_docs: list = None,\n",
    "):\n",
    "    retrieved_chunks = {}\n",
    "    retrieved_metadata = []\n",
    "    relevant_text = \"\"\n",
    "    source_count = 1\n",
    "    for doc in top_k_docs:\n",
    "        retrieved_chunks[f\"source_{source_count}\"] = doc.page_content\n",
    "        retrieved_metadata.append(doc.metadata)\n",
    "        relevant_text = relevant_text + doc.page_content\n",
    "        source_count += 1\n",
    "    return relevant_text"
   ]
  },
  {
   "cell_type": "code",
   "execution_count": 35,
   "id": "9964bdb5-e444-41c3-a7c1-1c735d36a76e",
   "metadata": {},
   "outputs": [],
   "source": [
    "relevant_context = summarize(query, top_K_retrieval)"
   ]
  },
  {
   "cell_type": "code",
   "execution_count": 36,
   "id": "2c4b49de-4aac-4bce-9bc4-83a642c160ce",
   "metadata": {},
   "outputs": [
    {
     "data": {
      "text/plain": [
       "'2026 Formula 1 Power Unit Technical Regulations \\n68 \\n16 August 2022 \\n© 2022 Fédération Internationale de l’Automobile \\n \\n \\nIssue 1 \\ne. The first time one or more Power Units comprising modified parts, as permitted by \\nArticle 3.6 of this Appendix, are used in any of the cars powered by the Power Unit \\nManufacturer, a minimum of 1 Power Unit with the exact same specification must be \\navailable for each Competitor. Each Competitor will have priority use of one of these \\nPower Units until the end of the first day of the Competition. \\nIn the case of a Manufacturer supplying Power Units to more than 2 Competitors, \\none exception per Championship season can be granted by the FIA, in its absolute \\ndiscretion, in the event of genuine supply issues. The request must be made in \\nwriting to the FIA Technical Department and must provide all necessary information \\nand evidence of the supply issue. If the FIA is satisfied, the minimum required \\nnumber of Power Units available for all Competitors may be reduced to 2 for the \\nEvent where the modified part is used for the first time. \\nf. A Power Unit element will be deemed to have been used once the car’s timing \\ntransponder has shown that it has left the pit lane. \\n4 \\nAdditional Development and Upgrade Opportunities\\nPermitted upgrades for the Power Unit \\n3.1 \\nFollowing the first homologation of a Power Unit by a PU Manufacturer in the period 2026-\\n2030, upgrades to Power Unit components may only be carried out if they are specifically \\ncovered by the provisions of this Article 3. \\n3.2 \\nFor the years 2027, 2028, 2029 and 2030, upgrades to the components marked with a “\\uf0fc” in \\nthe table of Appendix 3, in the relevant column for each year, may be carried out. Such \\nupgrades must be introduced for the first Competition of the year when they are allowed and \\nused for the whole Championship season. \\n3.3 \\nPU Manufacturers who fulfil the criteria described by Article 4 of this Appendix in year N, will \\nbe permitted to upgrade the components marked with a “\\uf0fc” in the column “ADUO” in the \\ntable of Appendix 3 for the first Competition in year N+1. \\n3.4 \\nComponents may be modified in order to comply with an amendment to the published \\nregulations or issued FIA guidance. Such modifications must be first approved by the FIA.  \\n3.5 \\nMinimal incidental changes may be carried out for car installation purposes to the following \\ncomponents of the Power Unit, subject to the approval processMinimum number of PUs per team to be (number of PUs per driver per season according to F1 Sporting \\nRegulations) x 2 + Necessary number of units to achieve 5000 km of testing. \\nINC \\n \\n69 \\nAdditional PUs or spares required to replace units out of service due to accident damage or other cause \\ninduced by team will be outside the supply perimeter and will incur additional charges \\nEXC \\n \\n70 \\nDemo event Power Units \\nEXC \\n \\n2026 Formula 1 Power Unit Technical Regulations \\n4 \\n16 August 2022 \\n© 2022 Fédération Internationale de l’Automobile \\n \\n \\nIssue 1 \\nARTICLE 1: GENERAL PRINCIPLES \\nNOTE: These Technical Regulations primarily address matters related to Power Units that will be used \\nin the FIA Formula One World Championship starting from 2026. In due course, the FIA will extend \\nthese Technical Regulations to include the full set of Technical Regulations (including chassis-related \\nmatters) applicable to the Championship, and also prescribe the conditions for participation in the \\n2026 Championship. \\n1.1 \\nFormula One World Championship \\n1.1.1 \\nThe FIA will organise the FIA Formula One World Championship (the \"Championship\") which \\nis the property of the FIA and comprises two titles of World Champion, one for drivers and \\none for constructors. It consists of the Formula One Grand Prix races which are included in \\nthe Formula One calendar and in respect of which the ASNs and organisers have signed \\norganisation agreements with the FIA. All the participating parties (FIA, ASNs, organisers, \\nCompetitors, Power Unit (PU) Manufacturers, Suppliers and circuits) undertake to apply as \\nwell as observe the rules governing the Championship and, where applicable, must hold FIA \\nSuper Lic2026 Formula 1 Power Unit Technical Regulations \\n1 \\n16 August 2022 \\n© 2022 Fédération Internationale de l’Automobile \\n \\n \\nIssue 1 \\n2026 FORMULA 1 POWER UNIT TECHNICAL REGULATIONS \\nPUBLISHED ON 16 AUGUST 2022 \\nISSUE 1 \\n \\nConvention: \\nGreen text: Comments and Explanations (non-regulatory) \\n \\nCONTENTS:  \\n \\nARTICLE 1:  \\nGENERAL PRINCIPLES \\n4 \\n1.1 \\nFormula One World Championship \\n1.2 \\nRegulatory Framework \\n1.3 \\nInitial scope and perimeter of these Technical Regulations \\n1.4 \\nDangerous construction \\n1.5 \\nCompliance with the regulations \\n1.6 \\nNew systems or technologies \\n1.7 \\nDuty of Competitor and PU Manufacturer \\n \\nARTICLE 5:  \\nPOWER UNIT   \\n \\n \\n \\n \\n \\n \\n \\n \\n \\n \\n \\n \\n \\n \\n7 \\n5.1 \\nDefinitions ICE \\n5.2 \\nDefinitions ERS \\n5.3 \\nEngine specification \\n5.4 \\nPower Unit Energy Flow'"
      ]
     },
     "execution_count": 36,
     "metadata": {},
     "output_type": "execute_result"
    }
   ],
   "source": [
    "relevant_context"
   ]
  },
  {
   "cell_type": "code",
   "execution_count": 33,
   "id": "41d1ffdd-3f61-4a5c-8e8a-0810483dbce0",
   "metadata": {},
   "outputs": [],
   "source": [
    "model_prompt = \"\"\"\n",
    "summarize context based upon query. context is provided inside triple backticks.\n",
    "\\nPlease complete the last sentence in the summary. context and query is related to insurance domain.\n",
    "\\ncontext: ```<relevant_content>```\n",
    "\\nquery: <query>\n",
    "\\nanswer: \"\"\""
   ]
  },
  {
   "cell_type": "code",
   "execution_count": 41,
   "id": "47b2392e-b921-41ef-b03a-141347a1020f",
   "metadata": {},
   "outputs": [],
   "source": [
    "summarize_model = \"databricks/dolly-v2-3b\"\n",
    "temperature = .1\n",
    "max_new_tokens = 200\n",
    "torch_dtype = torch.bfloat16\n",
    "trust_remote_code = True\n",
    "device_map = \"auto\""
   ]
  },
  {
   "cell_type": "code",
   "execution_count": 39,
   "id": "0f7c40a0-c260-4ec6-bea4-7b07d759dc11",
   "metadata": {},
   "outputs": [],
   "source": [
    "input_prompt = model_prompt.replace(\"<relevant_content>\", f\"{relevant_context}\").replace(\"<query>\", f\"{query}\")"
   ]
  },
  {
   "cell_type": "code",
   "execution_count": 40,
   "id": "f8649014-b281-42c7-af97-86b2ca5f1593",
   "metadata": {},
   "outputs": [
    {
     "data": {
      "text/plain": [
       "'\\nsummarize context based upon query. context is provided inside triple backticks.\\n\\nPlease complete the last sentence in the summary. context and query is related to insurance domain.\\n\\ncontext: ```2026 Formula 1 Power Unit Technical Regulations \\n68 \\n16 August 2022 \\n© 2022 Fédération Internationale de l’Automobile \\n \\n \\nIssue 1 \\ne. The first time one or more Power Units comprising modified parts, as permitted by \\nArticle 3.6 of this Appendix, are used in any of the cars powered by the Power Unit \\nManufacturer, a minimum of 1 Power Unit with the exact same specification must be \\navailable for each Competitor. Each Competitor will have priority use of one of these \\nPower Units until the end of the first day of the Competition. \\nIn the case of a Manufacturer supplying Power Units to more than 2 Competitors, \\none exception per Championship season can be granted by the FIA, in its absolute \\ndiscretion, in the event of genuine supply issues. The request must be made in \\nwriting to the FIA Technical Department and must provide all necessary information \\nand evidence of the supply issue. If the FIA is satisfied, the minimum required \\nnumber of Power Units available for all Competitors may be reduced to 2 for the \\nEvent where the modified part is used for the first time. \\nf. A Power Unit element will be deemed to have been used once the car’s timing \\ntransponder has shown that it has left the pit lane. \\n4 \\nAdditional Development and Upgrade Opportunities\\nPermitted upgrades for the Power Unit \\n3.1 \\nFollowing the first homologation of a Power Unit by a PU Manufacturer in the period 2026-\\n2030, upgrades to Power Unit components may only be carried out if they are specifically \\ncovered by the provisions of this Article 3. \\n3.2 \\nFor the years 2027, 2028, 2029 and 2030, upgrades to the components marked with a “\\uf0fc” in \\nthe table of Appendix 3, in the relevant column for each year, may be carried out. Such \\nupgrades must be introduced for the first Competition of the year when they are allowed and \\nused for the whole Championship season. \\n3.3 \\nPU Manufacturers who fulfil the criteria described by Article 4 of this Appendix in year N, will \\nbe permitted to upgrade the components marked with a “\\uf0fc” in the column “ADUO” in the \\ntable of Appendix 3 for the first Competition in year N+1. \\n3.4 \\nComponents may be modified in order to comply with an amendment to the published \\nregulations or issued FIA guidance. Such modifications must be first approved by the FIA.  \\n3.5 \\nMinimal incidental changes may be carried out for car installation purposes to the following \\ncomponents of the Power Unit, subject to the approval processMinimum number of PUs per team to be (number of PUs per driver per season according to F1 Sporting \\nRegulations) x 2 + Necessary number of units to achieve 5000 km of testing. \\nINC \\n \\n69 \\nAdditional PUs or spares required to replace units out of service due to accident damage or other cause \\ninduced by team will be outside the supply perimeter and will incur additional charges \\nEXC \\n \\n70 \\nDemo event Power Units \\nEXC \\n \\n2026 Formula 1 Power Unit Technical Regulations \\n4 \\n16 August 2022 \\n© 2022 Fédération Internationale de l’Automobile \\n \\n \\nIssue 1 \\nARTICLE 1: GENERAL PRINCIPLES \\nNOTE: These Technical Regulations primarily address matters related to Power Units that will be used \\nin the FIA Formula One World Championship starting from 2026. In due course, the FIA will extend \\nthese Technical Regulations to include the full set of Technical Regulations (including chassis-related \\nmatters) applicable to the Championship, and also prescribe the conditions for participation in the \\n2026 Championship. \\n1.1 \\nFormula One World Championship \\n1.1.1 \\nThe FIA will organise the FIA Formula One World Championship (the \"Championship\") which \\nis the property of the FIA and comprises two titles of World Champion, one for drivers and \\none for constructors. It consists of the Formula One Grand Prix races which are included in \\nthe Formula One calendar and in respect of which the ASNs and organisers have signed \\norganisation agreements with the FIA. All the participating parties (FIA, ASNs, organisers, \\nCompetitors, Power Unit (PU) Manufacturers, Suppliers and circuits) undertake to apply as \\nwell as observe the rules governing the Championship and, where applicable, must hold FIA \\nSuper Lic2026 Formula 1 Power Unit Technical Regulations \\n1 \\n16 August 2022 \\n© 2022 Fédération Internationale de l’Automobile \\n \\n \\nIssue 1 \\n2026 FORMULA 1 POWER UNIT TECHNICAL REGULATIONS \\nPUBLISHED ON 16 AUGUST 2022 \\nISSUE 1 \\n \\nConvention: \\nGreen text: Comments and Explanations (non-regulatory) \\n \\nCONTENTS:  \\n \\nARTICLE 1:  \\nGENERAL PRINCIPLES \\n4 \\n1.1 \\nFormula One World Championship \\n1.2 \\nRegulatory Framework \\n1.3 \\nInitial scope and perimeter of these Technical Regulations \\n1.4 \\nDangerous construction \\n1.5 \\nCompliance with the regulations \\n1.6 \\nNew systems or technologies \\n1.7 \\nDuty of Competitor and PU Manufacturer \\n \\nARTICLE 5:  \\nPOWER UNIT   \\n \\n \\n \\n \\n \\n \\n \\n \\n \\n \\n \\n \\n \\n \\n7 \\n5.1 \\nDefinitions ICE \\n5.2 \\nDefinitions ERS \\n5.3 \\nEngine specification \\n5.4 \\nPower Unit Energy Flow```\\n\\nquery: Why did Formula 1 introduce limitations on the number of upgrades teams Unit could make to their power units during the season?\\n\\nanswer: '"
      ]
     },
     "execution_count": 40,
     "metadata": {},
     "output_type": "execute_result"
    }
   ],
   "source": [
    "input_prompt"
   ]
  },
  {
   "cell_type": "code",
   "execution_count": 42,
   "id": "1f76bacb-0c37-4c2f-b575-86b860b1ed50",
   "metadata": {},
   "outputs": [
    {
     "name": "stderr",
     "output_type": "stream",
     "text": [
      "/opt/conda/lib/python3.11/site-packages/huggingface_hub/file_download.py:1150: FutureWarning: `resume_download` is deprecated and will be removed in version 1.0.0. Downloads always resume when possible. If you want to force a new download, use `force_download=True`.\n",
      "  warnings.warn(\n"
     ]
    },
    {
     "data": {
      "application/vnd.jupyter.widget-view+json": {
       "model_id": "",
       "version_major": 2,
       "version_minor": 0
      },
      "text/plain": [
       "config.json:   0%|          | 0.00/662 [00:00<?, ?B/s]"
      ]
     },
     "metadata": {},
     "output_type": "display_data"
    },
    {
     "data": {
      "application/vnd.jupyter.widget-view+json": {
       "model_id": "",
       "version_major": 2,
       "version_minor": 0
      },
      "text/plain": [
       "model.safetensors:   0%|          | 0.00/3.13G [00:00<?, ?B/s]"
      ]
     },
     "metadata": {},
     "output_type": "display_data"
    },
    {
     "data": {
      "application/vnd.jupyter.widget-view+json": {
       "model_id": "",
       "version_major": 2,
       "version_minor": 0
      },
      "text/plain": [
       "generation_config.json:   0%|          | 0.00/147 [00:00<?, ?B/s]"
      ]
     },
     "metadata": {},
     "output_type": "display_data"
    },
    {
     "data": {
      "application/vnd.jupyter.widget-view+json": {
       "model_id": "",
       "version_major": 2,
       "version_minor": 0
      },
      "text/plain": [
       "tokenizer_config.json:   0%|          | 0.00/2.54k [00:00<?, ?B/s]"
      ]
     },
     "metadata": {},
     "output_type": "display_data"
    },
    {
     "data": {
      "application/vnd.jupyter.widget-view+json": {
       "model_id": "",
       "version_major": 2,
       "version_minor": 0
      },
      "text/plain": [
       "spiece.model:   0%|          | 0.00/792k [00:00<?, ?B/s]"
      ]
     },
     "metadata": {},
     "output_type": "display_data"
    },
    {
     "data": {
      "application/vnd.jupyter.widget-view+json": {
       "model_id": "",
       "version_major": 2,
       "version_minor": 0
      },
      "text/plain": [
       "tokenizer.json:   0%|          | 0.00/2.42M [00:00<?, ?B/s]"
      ]
     },
     "metadata": {},
     "output_type": "display_data"
    },
    {
     "data": {
      "application/vnd.jupyter.widget-view+json": {
       "model_id": "",
       "version_major": 2,
       "version_minor": 0
      },
      "text/plain": [
       "special_tokens_map.json:   0%|          | 0.00/2.20k [00:00<?, ?B/s]"
      ]
     },
     "metadata": {},
     "output_type": "display_data"
    }
   ],
   "source": [
    "generate_text = pipeline(\n",
    "    model = \"google/flan-t5-large\",\n",
    "    torch_dtype = torch_dtype,\n",
    "    trust_remote_code=trust_remote_code,\n",
    "    device_map=device_map\n",
    ")"
   ]
  },
  {
   "cell_type": "code",
   "execution_count": 43,
   "id": "f8695215-f69f-493e-b7b2-8371e8b03994",
   "metadata": {},
   "outputs": [
    {
     "name": "stderr",
     "output_type": "stream",
     "text": [
      "Token indices sequence length is longer than the specified maximum sequence length for this model (1184 > 512). Running this sequence through the model will result in indexing errors\n",
      "Both `max_new_tokens` (=200) and `max_length`(=20) seem to have been set. `max_new_tokens` will take precedence. Please refer to the documentation for more information. (https://huggingface.co/docs/transformers/main/en/main_classes/text_generation)\n"
     ]
    }
   ],
   "source": [
    "summary_text = generate_text(\n",
    "    input_prompt, max_new_tokens=max_new_tokens, temperature=temperature\n",
    ")"
   ]
  },
  {
   "cell_type": "code",
   "execution_count": 46,
   "id": "81fcb695-7999-4b00-ab3a-fd88b2a6ccf3",
   "metadata": {},
   "outputs": [],
   "source": [
    "ans = summary_text[0][\"generated_text\"]"
   ]
  },
  {
   "cell_type": "code",
   "execution_count": 47,
   "id": "31338d66-257f-49c0-b905-99b6b22180a2",
   "metadata": {},
   "outputs": [
    {
     "data": {
      "text/plain": [
       "'For the years 2027, 2028, 2029 and 2030, upgrades to Power Unit components may only be carried out if they are specifically covered by the provisions of this Article 3.'"
      ]
     },
     "execution_count": 47,
     "metadata": {},
     "output_type": "execute_result"
    }
   ],
   "source": [
    "ans"
   ]
  },
  {
   "cell_type": "code",
   "execution_count": null,
   "id": "02ab32a5-d773-427c-bc34-976763b4da6b",
   "metadata": {},
   "outputs": [],
   "source": []
  },
  {
   "cell_type": "markdown",
   "id": "082dc697-a044-4f6e-a0db-92044767e4fa",
   "metadata": {},
   "source": [
    "### Mlflow Logging Section\n",
    "###### Add all the params and metrics here which you have used to train the Model here"
   ]
  },
  {
   "cell_type": "markdown",
   "id": "07eea463-8f61-41b9-9c4e-a3e7ae931fd0",
   "metadata": {
    "tags": []
   },
   "source": [
    "###### This is the start_run block make sure to save the code, commit it to the Git. The commit id will attached to this run_id"
   ]
  },
  {
   "cell_type": "code",
   "execution_count": 54,
   "id": "cffc09eb-98d6-4c9c-b628-a465f2ae8198",
   "metadata": {},
   "outputs": [
    {
     "ename": "NameError",
     "evalue": "name 'MLFLOW_GIT_COMMIT' is not defined",
     "output_type": "error",
     "traceback": [
      "\u001b[0;31m---------------------------------------------------------------------------\u001b[0m",
      "\u001b[0;31mNameError\u001b[0m                                 Traceback (most recent call last)",
      "Cell \u001b[0;32mIn[54], line 25\u001b[0m\n\u001b[1;32m      9\u001b[0m mlflow\u001b[38;5;241m.\u001b[39mlog_params({\n\u001b[1;32m     10\u001b[0m     \u001b[38;5;124m\"\u001b[39m\u001b[38;5;124mparser\u001b[39m\u001b[38;5;124m\"\u001b[39m : \u001b[38;5;124m\"\u001b[39m\u001b[38;5;124mPyMuPDFLoader\u001b[39m\u001b[38;5;124m\"\u001b[39m,\n\u001b[1;32m     11\u001b[0m     \u001b[38;5;124m\"\u001b[39m\u001b[38;5;124membedding_model\u001b[39m\u001b[38;5;124m\"\u001b[39m : \u001b[38;5;124m\"\u001b[39m\u001b[38;5;124mall-MiniLM-L6-v2\u001b[39m\u001b[38;5;124m\"\u001b[39m,\n\u001b[0;32m   (...)\u001b[0m\n\u001b[1;32m     19\u001b[0m     \u001b[38;5;124m\"\u001b[39m\u001b[38;5;124manswer\u001b[39m\u001b[38;5;124m\"\u001b[39m: ans\n\u001b[1;32m     20\u001b[0m })\n\u001b[1;32m     22\u001b[0m \u001b[38;5;66;03m# Log the error metrics that were calculated during validation\u001b[39;00m\n\u001b[1;32m     23\u001b[0m \u001b[38;5;66;03m# mlflow.log_metrics(metrics)\u001b[39;00m\n\u001b[0;32m---> 25\u001b[0m tag \u001b[38;5;241m=\u001b[39m {\u001b[43mMLFLOW_GIT_COMMIT\u001b[49m: repo\u001b[38;5;241m.\u001b[39mhead\u001b[38;5;241m.\u001b[39mcommit, MLFLOW_SOURCE_TYPE:\u001b[38;5;124m'\u001b[39m\u001b[38;5;124mGIT PROJECT\u001b[39m\u001b[38;5;124m'\u001b[39m, \n\u001b[1;32m     26\u001b[0m        MLFLOW_GIT_BRANCH:repo\u001b[38;5;241m.\u001b[39mactive_branch, MLFLOW_SOURCE_NAME:repo\u001b[38;5;241m.\u001b[39mremote()\u001b[38;5;241m.\u001b[39murl}\n\u001b[1;32m     28\u001b[0m mlflow\u001b[38;5;241m.\u001b[39mset_tags(tag)\n\u001b[1;32m     29\u001b[0m \u001b[38;5;66;03m# # Each Branch corresponds to one Registered Model in mlflow\u001b[39;00m\n\u001b[1;32m     30\u001b[0m \u001b[38;5;66;03m# model_name = repo.active_branch.name\u001b[39;00m\n",
      "\u001b[0;31mNameError\u001b[0m: name 'MLFLOW_GIT_COMMIT' is not defined"
     ]
    }
   ],
   "source": [
    "import mlflow\n",
    "import git \n",
    "from mlflow.utils.mlflow_tags import MLFLOW_GIT_COMMIT, MLFLOW_SOURCE_TYPE, MLFLOW_GIT_BRANCH, MLFLOW_GIT_REPO_URL, MLFLOW_SOURCE_NAME\n",
    "\n",
    "mlflow.set_experiment(ExpName)\n",
    "\n",
    "repo = git.Repo(\"\")\n",
    "with mlflow.start_run():\n",
    "    # Log the parameters used for the model fit\n",
    "    mlflow.log_params({\n",
    "        \"parser\" : \"PyMuPDFLoader\",\n",
    "        \"embedding_model\" : \"all-MiniLM-L6-v2\",\n",
    "        \"text_splitter\" : \"TokenTextSplitter\",\n",
    "        \"chunk_size\" : 300,\n",
    "        \"chunk_overlap\" : 80,\n",
    "        \"query\": query,\n",
    "        \"top_k\": 5,\n",
    "        \"score_threshold\": 0.1,\n",
    "        \"mdoel_name\": \"google/flan-t5-large\",\n",
    "        \"answer\": ans\n",
    "    })\n",
    "\n",
    "    # Log the error metrics that were calculated during validation\n",
    "    # mlflow.log_metrics(metrics)\n",
    "\n",
    "    tag = {MLFLOW_GIT_COMMIT: repo.head.commit, MLFLOW_SOURCE_TYPE:'GIT PROJECT', \n",
    "           MLFLOW_GIT_BRANCH:repo.active_branch, MLFLOW_SOURCE_NAME:repo.remote().url}\n",
    "\n",
    "    mlflow.set_tags(tag)\n",
    "    # # Each Branch corresponds to one Registered Model in mlflow\n",
    "    # model_name = repo.active_branch.name\n",
    "    "
   ]
  },
  {
   "cell_type": "code",
   "execution_count": null,
   "id": "e2a49986-d512-49f1-981f-daa235742117",
   "metadata": {},
   "outputs": [],
   "source": []
  }
 ],
 "metadata": {
  "kernelspec": {
   "display_name": "Python 3 (ipykernel)",
   "language": "python",
   "name": "python3"
  },
  "language_info": {
   "codemirror_mode": {
    "name": "ipython",
    "version": 3
   },
   "file_extension": ".py",
   "mimetype": "text/x-python",
   "name": "python",
   "nbconvert_exporter": "python",
   "pygments_lexer": "ipython3",
   "version": "3.11.9"
  }
 },
 "nbformat": 4,
 "nbformat_minor": 5
}
